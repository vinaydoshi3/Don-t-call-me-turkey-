{
 "cells": [
  {
   "cell_type": "code",
   "execution_count": 1,
   "metadata": {
    "_cell_guid": "b1076dfc-b9ad-4769-8c92-a6c4dae69d19",
    "_uuid": "8f2839f25d086af736a60e9eeb907d3b93b6e0e5"
   },
   "outputs": [],
   "source": [
    "import pandas as pd\n",
    "import numpy as np\n",
    "import matplotlib.pyplot as plt\n",
    "import seaborn as sns\n",
    "import os\n",
    "import featuretools as ft\n",
    "%matplotlib inline"
   ]
  },
  {
   "cell_type": "code",
   "execution_count": 2,
   "metadata": {
    "_cell_guid": "79c7e3d0-c299-4dcb-8224-4455121ee9b0",
    "_uuid": "d629ff2d2480ee46fbb7e2d37f6b5fab8052498a"
   },
   "outputs": [],
   "source": [
    "train = pd.read_json('../input/train.json')\n",
    "test = pd.read_json('../input/test.json')\n",
    "submission = pd.read_csv('../input/sample_submission.csv')"
   ]
  },
  {
   "cell_type": "code",
   "execution_count": 3,
   "metadata": {},
   "outputs": [
    {
     "data": {
      "text/plain": [
       "array([0])"
      ]
     },
     "execution_count": 3,
     "metadata": {},
     "output_type": "execute_result"
    }
   ],
   "source": [
    "submission['is_turkey'].unique()"
   ]
  },
  {
   "cell_type": "code",
   "execution_count": 4,
   "metadata": {},
   "outputs": [
    {
     "name": "stdout",
     "output_type": "stream",
     "text": [
      "<class 'pandas.core.frame.DataFrame'>\n",
      "RangeIndex: 1195 entries, 0 to 1194\n",
      "Data columns (total 5 columns):\n",
      "audio_embedding                    1195 non-null object\n",
      "end_time_seconds_youtube_clip      1195 non-null int64\n",
      "is_turkey                          1195 non-null int64\n",
      "start_time_seconds_youtube_clip    1195 non-null int64\n",
      "vid_id                             1195 non-null object\n",
      "dtypes: int64(3), object(2)\n",
      "memory usage: 46.8+ KB\n"
     ]
    }
   ],
   "source": [
    "train.info(verbose=True)"
   ]
  },
  {
   "cell_type": "code",
   "execution_count": 5,
   "metadata": {},
   "outputs": [
    {
     "name": "stdout",
     "output_type": "stream",
     "text": [
      "<class 'pandas.core.frame.DataFrame'>\n",
      "RangeIndex: 1196 entries, 0 to 1195\n",
      "Data columns (total 5 columns):\n",
      "audio_embedding                    1196 non-null object\n",
      "end_time_seconds_youtube_clip      1196 non-null int64\n",
      "start_time_seconds_youtube_clip    1196 non-null int64\n",
      "vid_id                             1196 non-null object\n",
      "set                                1196 non-null object\n",
      "dtypes: int64(2), object(3)\n",
      "memory usage: 46.8+ KB\n"
     ]
    }
   ],
   "source": [
    "\n",
    "tgt = train[['is_turkey','vid_id']].copy()\n",
    "train['set']='train'\n",
    "test['set']='test'\n",
    "train.drop(columns='is_turkey',axis=1,inplace=True)\n",
    "test.info(verbose=True)"
   ]
  },
  {
   "cell_type": "code",
   "execution_count": 6,
   "metadata": {},
   "outputs": [
    {
     "data": {
      "text/html": [
       "<div>\n",
       "<style scoped>\n",
       "    .dataframe tbody tr th:only-of-type {\n",
       "        vertical-align: middle;\n",
       "    }\n",
       "\n",
       "    .dataframe tbody tr th {\n",
       "        vertical-align: top;\n",
       "    }\n",
       "\n",
       "    .dataframe thead th {\n",
       "        text-align: right;\n",
       "    }\n",
       "</style>\n",
       "<table border=\"1\" class=\"dataframe\">\n",
       "  <thead>\n",
       "    <tr style=\"text-align: right;\">\n",
       "      <th></th>\n",
       "      <th>audio_embedding</th>\n",
       "      <th>end_time_seconds_youtube_clip</th>\n",
       "      <th>start_time_seconds_youtube_clip</th>\n",
       "      <th>vid_id</th>\n",
       "      <th>set</th>\n",
       "    </tr>\n",
       "  </thead>\n",
       "  <tbody>\n",
       "    <tr>\n",
       "      <th>2386</th>\n",
       "      <td>[[153, 26, 118, 69, 255, 87, 153, 59, 125, 204...</td>\n",
       "      <td>11</td>\n",
       "      <td>1</td>\n",
       "      <td>lQOQR6HCGyE</td>\n",
       "      <td>test</td>\n",
       "    </tr>\n",
       "    <tr>\n",
       "      <th>2387</th>\n",
       "      <td>[[159, 8, 163, 128, 172, 64, 36, 56, 110, 236,...</td>\n",
       "      <td>40</td>\n",
       "      <td>30</td>\n",
       "      <td>CqhPMjumTOA</td>\n",
       "      <td>test</td>\n",
       "    </tr>\n",
       "    <tr>\n",
       "      <th>2388</th>\n",
       "      <td>[[78, 56, 132, 20, 92, 120, 6, 133, 191, 156, ...</td>\n",
       "      <td>40</td>\n",
       "      <td>30</td>\n",
       "      <td>Ccn2LQJc2MI</td>\n",
       "      <td>test</td>\n",
       "    </tr>\n",
       "    <tr>\n",
       "      <th>2389</th>\n",
       "      <td>[[81, 115, 208, 104, 236, 91, 95, 71, 161, 152...</td>\n",
       "      <td>40</td>\n",
       "      <td>30</td>\n",
       "      <td>f6OhmrIdB-g</td>\n",
       "      <td>test</td>\n",
       "    </tr>\n",
       "    <tr>\n",
       "      <th>2390</th>\n",
       "      <td>[[164, 21, 189, 141, 198, 32, 151, 69, 129, 16...</td>\n",
       "      <td>20</td>\n",
       "      <td>10</td>\n",
       "      <td>vCxGJelmAeg</td>\n",
       "      <td>test</td>\n",
       "    </tr>\n",
       "  </tbody>\n",
       "</table>\n",
       "</div>"
      ],
      "text/plain": [
       "                                        audio_embedding  ...    set\n",
       "2386  [[153, 26, 118, 69, 255, 87, 153, 59, 125, 204...  ...   test\n",
       "2387  [[159, 8, 163, 128, 172, 64, 36, 56, 110, 236,...  ...   test\n",
       "2388  [[78, 56, 132, 20, 92, 120, 6, 133, 191, 156, ...  ...   test\n",
       "2389  [[81, 115, 208, 104, 236, 91, 95, 71, 161, 152...  ...   test\n",
       "2390  [[164, 21, 189, 141, 198, 32, 151, 69, 129, 16...  ...   test\n",
       "\n",
       "[5 rows x 5 columns]"
      ]
     },
     "execution_count": 6,
     "metadata": {},
     "output_type": "execute_result"
    }
   ],
   "source": [
    "data = train.append(test, ignore_index=True, sort=False)\n",
    "data.tail()"
   ]
  },
  {
   "cell_type": "code",
   "execution_count": 7,
   "metadata": {},
   "outputs": [
    {
     "name": "stdout",
     "output_type": "stream",
     "text": [
      "<class 'pandas.core.frame.DataFrame'>\n",
      "RangeIndex: 2391 entries, 0 to 2390\n",
      "Data columns (total 5 columns):\n",
      "audio_embedding                    2391 non-null object\n",
      "end_time_seconds_youtube_clip      2391 non-null int64\n",
      "start_time_seconds_youtube_clip    2391 non-null int64\n",
      "vid_id                             2391 non-null object\n",
      "set                                2391 non-null object\n",
      "dtypes: int64(2), object(3)\n",
      "memory usage: 93.5+ KB\n"
     ]
    }
   ],
   "source": [
    "data.info(verbose=True)"
   ]
  },
  {
   "cell_type": "code",
   "execution_count": 8,
   "metadata": {},
   "outputs": [
    {
     "data": {
      "text/html": [
       "<div>\n",
       "<style scoped>\n",
       "    .dataframe tbody tr th:only-of-type {\n",
       "        vertical-align: middle;\n",
       "    }\n",
       "\n",
       "    .dataframe tbody tr th {\n",
       "        vertical-align: top;\n",
       "    }\n",
       "\n",
       "    .dataframe thead th {\n",
       "        text-align: right;\n",
       "    }\n",
       "</style>\n",
       "<table border=\"1\" class=\"dataframe\">\n",
       "  <thead>\n",
       "    <tr style=\"text-align: right;\">\n",
       "      <th></th>\n",
       "      <th>audio_embedding</th>\n",
       "      <th>end_time_seconds_youtube_clip</th>\n",
       "      <th>start_time_seconds_youtube_clip</th>\n",
       "      <th>vid_id</th>\n",
       "      <th>set</th>\n",
       "    </tr>\n",
       "  </thead>\n",
       "  <tbody>\n",
       "    <tr>\n",
       "      <th>0</th>\n",
       "      <td>[[172, 34, 216, 110, 208, 46, 95, 66, 161, 125...</td>\n",
       "      <td>70</td>\n",
       "      <td>60</td>\n",
       "      <td>kDCk3hLIVXo</td>\n",
       "      <td>train</td>\n",
       "    </tr>\n",
       "    <tr>\n",
       "      <th>1</th>\n",
       "      <td>[[169, 20, 165, 102, 205, 62, 110, 103, 211, 1...</td>\n",
       "      <td>40</td>\n",
       "      <td>30</td>\n",
       "      <td>DPcGzqHoo7Y</td>\n",
       "      <td>train</td>\n",
       "    </tr>\n",
       "    <tr>\n",
       "      <th>2</th>\n",
       "      <td>[[148, 8, 138, 60, 237, 48, 121, 108, 145, 177...</td>\n",
       "      <td>240</td>\n",
       "      <td>230</td>\n",
       "      <td>7yM63MTHh5k</td>\n",
       "      <td>train</td>\n",
       "    </tr>\n",
       "    <tr>\n",
       "      <th>3</th>\n",
       "      <td>[[151, 0, 162, 88, 171, 71, 47, 90, 179, 190, ...</td>\n",
       "      <td>520</td>\n",
       "      <td>510</td>\n",
       "      <td>luG3RmUAxxM</td>\n",
       "      <td>train</td>\n",
       "    </tr>\n",
       "    <tr>\n",
       "      <th>4</th>\n",
       "      <td>[[162, 17, 187, 111, 211, 105, 92, 67, 203, 15...</td>\n",
       "      <td>10</td>\n",
       "      <td>0</td>\n",
       "      <td>PIm3cjxTpOk</td>\n",
       "      <td>train</td>\n",
       "    </tr>\n",
       "  </tbody>\n",
       "</table>\n",
       "</div>"
      ],
      "text/plain": [
       "                                     audio_embedding  ...      set\n",
       "0  [[172, 34, 216, 110, 208, 46, 95, 66, 161, 125...  ...    train\n",
       "1  [[169, 20, 165, 102, 205, 62, 110, 103, 211, 1...  ...    train\n",
       "2  [[148, 8, 138, 60, 237, 48, 121, 108, 145, 177...  ...    train\n",
       "3  [[151, 0, 162, 88, 171, 71, 47, 90, 179, 190, ...  ...    train\n",
       "4  [[162, 17, 187, 111, 211, 105, 92, 67, 203, 15...  ...    train\n",
       "\n",
       "[5 rows x 5 columns]"
      ]
     },
     "execution_count": 8,
     "metadata": {},
     "output_type": "execute_result"
    }
   ],
   "source": [
    "data.head()"
   ]
  },
  {
   "cell_type": "code",
   "execution_count": 9,
   "metadata": {},
   "outputs": [
    {
     "data": {
      "text/plain": [
       "True"
      ]
     },
     "execution_count": 9,
     "metadata": {},
     "output_type": "execute_result"
    }
   ],
   "source": [
    "data['vid_id'].is_unique"
   ]
  },
  {
   "cell_type": "code",
   "execution_count": 10,
   "metadata": {},
   "outputs": [
    {
     "data": {
      "text/html": [
       "<div>\n",
       "<style scoped>\n",
       "    .dataframe tbody tr th:only-of-type {\n",
       "        vertical-align: middle;\n",
       "    }\n",
       "\n",
       "    .dataframe tbody tr th {\n",
       "        vertical-align: top;\n",
       "    }\n",
       "\n",
       "    .dataframe thead th {\n",
       "        text-align: right;\n",
       "    }\n",
       "</style>\n",
       "<table border=\"1\" class=\"dataframe\">\n",
       "  <thead>\n",
       "    <tr style=\"text-align: right;\">\n",
       "      <th></th>\n",
       "      <th>audio_embedding</th>\n",
       "      <th>end_time_seconds_youtube_clip</th>\n",
       "      <th>start_time_seconds_youtube_clip</th>\n",
       "      <th>set</th>\n",
       "    </tr>\n",
       "    <tr>\n",
       "      <th>vid_id</th>\n",
       "      <th></th>\n",
       "      <th></th>\n",
       "      <th></th>\n",
       "      <th></th>\n",
       "    </tr>\n",
       "  </thead>\n",
       "  <tbody>\n",
       "    <tr>\n",
       "      <th>kDCk3hLIVXo</th>\n",
       "      <td>[[172, 34, 216, 110, 208, 46, 95, 66, 161, 125...</td>\n",
       "      <td>70</td>\n",
       "      <td>60</td>\n",
       "      <td>train</td>\n",
       "    </tr>\n",
       "    <tr>\n",
       "      <th>DPcGzqHoo7Y</th>\n",
       "      <td>[[169, 20, 165, 102, 205, 62, 110, 103, 211, 1...</td>\n",
       "      <td>40</td>\n",
       "      <td>30</td>\n",
       "      <td>train</td>\n",
       "    </tr>\n",
       "    <tr>\n",
       "      <th>7yM63MTHh5k</th>\n",
       "      <td>[[148, 8, 138, 60, 237, 48, 121, 108, 145, 177...</td>\n",
       "      <td>240</td>\n",
       "      <td>230</td>\n",
       "      <td>train</td>\n",
       "    </tr>\n",
       "    <tr>\n",
       "      <th>luG3RmUAxxM</th>\n",
       "      <td>[[151, 0, 162, 88, 171, 71, 47, 90, 179, 190, ...</td>\n",
       "      <td>520</td>\n",
       "      <td>510</td>\n",
       "      <td>train</td>\n",
       "    </tr>\n",
       "    <tr>\n",
       "      <th>PIm3cjxTpOk</th>\n",
       "      <td>[[162, 17, 187, 111, 211, 105, 92, 67, 203, 15...</td>\n",
       "      <td>10</td>\n",
       "      <td>0</td>\n",
       "      <td>train</td>\n",
       "    </tr>\n",
       "  </tbody>\n",
       "</table>\n",
       "</div>"
      ],
      "text/plain": [
       "                                               audio_embedding  ...      set\n",
       "vid_id                                                          ...         \n",
       "kDCk3hLIVXo  [[172, 34, 216, 110, 208, 46, 95, 66, 161, 125...  ...    train\n",
       "DPcGzqHoo7Y  [[169, 20, 165, 102, 205, 62, 110, 103, 211, 1...  ...    train\n",
       "7yM63MTHh5k  [[148, 8, 138, 60, 237, 48, 121, 108, 145, 177...  ...    train\n",
       "luG3RmUAxxM  [[151, 0, 162, 88, 171, 71, 47, 90, 179, 190, ...  ...    train\n",
       "PIm3cjxTpOk  [[162, 17, 187, 111, 211, 105, 92, 67, 203, 15...  ...    train\n",
       "\n",
       "[5 rows x 4 columns]"
      ]
     },
     "execution_count": 10,
     "metadata": {},
     "output_type": "execute_result"
    }
   ],
   "source": [
    "data.index = data['vid_id']\n",
    "data.drop(columns='vid_id',axis=1, inplace=True)\n",
    "\n",
    "data.head()"
   ]
  },
  {
   "cell_type": "code",
   "execution_count": 11,
   "metadata": {},
   "outputs": [
    {
     "data": {
      "text/plain": [
       "<matplotlib.axes._subplots.AxesSubplot at 0x7f9a50df47f0>"
      ]
     },
     "execution_count": 11,
     "metadata": {},
     "output_type": "execute_result"
    },
    {
     "data": {
      "image/png": "[encoded data removed]",
      "text/plain": [
       "<Figure size 432x288 with 1 Axes>"
      ]
     },
     "metadata": {
      "needs_background": "light"
     },
     "output_type": "display_data"
    }
   ],
   "source": [
    "sns.countplot(x='is_turkey',data=tgt)"
   ]
  },
  {
   "cell_type": "code",
   "execution_count": 12,
   "metadata": {},
   "outputs": [],
   "source": [
    "from sklearn.linear_model import LogisticRegression\n",
    "from sklearn.metrics import roc_auc_score, roc_curve, auc, make_scorer"
   ]
  },
  {
   "cell_type": "code",
   "execution_count": 13,
   "metadata": {},
   "outputs": [],
   "source": [
    "# got this function idea from refering below kernel:\n",
    "#https://www.kaggle.com/teemingyi/turkey-competition\n",
    "#thanks !!\n",
    "def auto_embed_to_cols(data,i):\n",
    "    df=pd.DataFrame(data['audio_embedding'].loc[i])\n",
    "    df['vid_id']=i\n",
    "    return df"
   ]
  },
  {
   "cell_type": "code",
   "execution_count": 14,
   "metadata": {},
   "outputs": [
    {
     "data": {
      "text/plain": [
       "(23634, 129)"
      ]
     },
     "execution_count": 14,
     "metadata": {},
     "output_type": "execute_result"
    }
   ],
   "source": [
    "auto_embeds =[]\n",
    "for i in data.index:\n",
    "    auto_embeds.append(auto_embed_to_cols(data,i))\n",
    "    \n",
    "auto_embed_values = pd.concat(auto_embeds)\n",
    "auto_embed_values.shape"
   ]
  },
  {
   "cell_type": "code",
   "execution_count": 15,
   "metadata": {},
   "outputs": [
    {
     "data": {
      "text/html": [
       "<div>\n",
       "<style scoped>\n",
       "    .dataframe tbody tr th:only-of-type {\n",
       "        vertical-align: middle;\n",
       "    }\n",
       "\n",
       "    .dataframe tbody tr th {\n",
       "        vertical-align: top;\n",
       "    }\n",
       "\n",
       "    .dataframe thead th {\n",
       "        text-align: right;\n",
       "    }\n",
       "</style>\n",
       "<table border=\"1\" class=\"dataframe\">\n",
       "  <thead>\n",
       "    <tr style=\"text-align: right;\">\n",
       "      <th></th>\n",
       "      <th>feature_0</th>\n",
       "      <th>feature_1</th>\n",
       "      <th>feature_2</th>\n",
       "      <th>feature_3</th>\n",
       "      <th>feature_4</th>\n",
       "      <th>feature_5</th>\n",
       "      <th>feature_6</th>\n",
       "      <th>feature_7</th>\n",
       "      <th>feature_8</th>\n",
       "      <th>feature_9</th>\n",
       "      <th>feature_10</th>\n",
       "      <th>feature_11</th>\n",
       "      <th>feature_12</th>\n",
       "      <th>feature_13</th>\n",
       "      <th>feature_14</th>\n",
       "      <th>feature_15</th>\n",
       "      <th>feature_16</th>\n",
       "      <th>feature_17</th>\n",
       "      <th>feature_18</th>\n",
       "      <th>feature_19</th>\n",
       "      <th>feature_20</th>\n",
       "      <th>feature_21</th>\n",
       "      <th>feature_22</th>\n",
       "      <th>feature_23</th>\n",
       "      <th>feature_24</th>\n",
       "      <th>feature_25</th>\n",
       "      <th>feature_26</th>\n",
       "      <th>feature_27</th>\n",
       "      <th>feature_28</th>\n",
       "      <th>feature_29</th>\n",
       "      <th>feature_30</th>\n",
       "      <th>feature_31</th>\n",
       "      <th>feature_32</th>\n",
       "      <th>feature_33</th>\n",
       "      <th>feature_34</th>\n",
       "      <th>feature_35</th>\n",
       "      <th>feature_36</th>\n",
       "      <th>feature_37</th>\n",
       "      <th>feature_38</th>\n",
       "      <th>feature_39</th>\n",
       "      <th>...</th>\n",
       "      <th>feature_89</th>\n",
       "      <th>feature_90</th>\n",
       "      <th>feature_91</th>\n",
       "      <th>feature_92</th>\n",
       "      <th>feature_93</th>\n",
       "      <th>feature_94</th>\n",
       "      <th>feature_95</th>\n",
       "      <th>feature_96</th>\n",
       "      <th>feature_97</th>\n",
       "      <th>feature_98</th>\n",
       "      <th>feature_99</th>\n",
       "      <th>feature_100</th>\n",
       "      <th>feature_101</th>\n",
       "      <th>feature_102</th>\n",
       "      <th>feature_103</th>\n",
       "      <th>feature_104</th>\n",
       "      <th>feature_105</th>\n",
       "      <th>feature_106</th>\n",
       "      <th>feature_107</th>\n",
       "      <th>feature_108</th>\n",
       "      <th>feature_109</th>\n",
       "      <th>feature_110</th>\n",
       "      <th>feature_111</th>\n",
       "      <th>feature_112</th>\n",
       "      <th>feature_113</th>\n",
       "      <th>feature_114</th>\n",
       "      <th>feature_115</th>\n",
       "      <th>feature_116</th>\n",
       "      <th>feature_117</th>\n",
       "      <th>feature_118</th>\n",
       "      <th>feature_119</th>\n",
       "      <th>feature_120</th>\n",
       "      <th>feature_121</th>\n",
       "      <th>feature_122</th>\n",
       "      <th>feature_123</th>\n",
       "      <th>feature_124</th>\n",
       "      <th>feature_125</th>\n",
       "      <th>feature_126</th>\n",
       "      <th>feature_127</th>\n",
       "      <th>vid_id</th>\n",
       "    </tr>\n",
       "  </thead>\n",
       "  <tbody>\n",
       "    <tr>\n",
       "      <th>0</th>\n",
       "      <td>172</td>\n",
       "      <td>34</td>\n",
       "      <td>216</td>\n",
       "      <td>110</td>\n",
       "      <td>208</td>\n",
       "      <td>46</td>\n",
       "      <td>95</td>\n",
       "      <td>66</td>\n",
       "      <td>161</td>\n",
       "      <td>125</td>\n",
       "      <td>83</td>\n",
       "      <td>39</td>\n",
       "      <td>106</td>\n",
       "      <td>146</td>\n",
       "      <td>90</td>\n",
       "      <td>144</td>\n",
       "      <td>109</td>\n",
       "      <td>111</td>\n",
       "      <td>194</td>\n",
       "      <td>58</td>\n",
       "      <td>24</td>\n",
       "      <td>228</td>\n",
       "      <td>81</td>\n",
       "      <td>128</td>\n",
       "      <td>18</td>\n",
       "      <td>94</td>\n",
       "      <td>197</td>\n",
       "      <td>161</td>\n",
       "      <td>56</td>\n",
       "      <td>0</td>\n",
       "      <td>85</td>\n",
       "      <td>97</td>\n",
       "      <td>206</td>\n",
       "      <td>74</td>\n",
       "      <td>165</td>\n",
       "      <td>126</td>\n",
       "      <td>95</td>\n",
       "      <td>121</td>\n",
       "      <td>132</td>\n",
       "      <td>105</td>\n",
       "      <td>...</td>\n",
       "      <td>0</td>\n",
       "      <td>156</td>\n",
       "      <td>215</td>\n",
       "      <td>255</td>\n",
       "      <td>255</td>\n",
       "      <td>68</td>\n",
       "      <td>255</td>\n",
       "      <td>148</td>\n",
       "      <td>0</td>\n",
       "      <td>247</td>\n",
       "      <td>206</td>\n",
       "      <td>91</td>\n",
       "      <td>18</td>\n",
       "      <td>177</td>\n",
       "      <td>191</td>\n",
       "      <td>54</td>\n",
       "      <td>116</td>\n",
       "      <td>79</td>\n",
       "      <td>92</td>\n",
       "      <td>36</td>\n",
       "      <td>12</td>\n",
       "      <td>153</td>\n",
       "      <td>29</td>\n",
       "      <td>96</td>\n",
       "      <td>170</td>\n",
       "      <td>26</td>\n",
       "      <td>255</td>\n",
       "      <td>162</td>\n",
       "      <td>255</td>\n",
       "      <td>0</td>\n",
       "      <td>0</td>\n",
       "      <td>1</td>\n",
       "      <td>170</td>\n",
       "      <td>0</td>\n",
       "      <td>8</td>\n",
       "      <td>255</td>\n",
       "      <td>129</td>\n",
       "      <td>4</td>\n",
       "      <td>255</td>\n",
       "      <td>kDCk3hLIVXo</td>\n",
       "    </tr>\n",
       "    <tr>\n",
       "      <th>1</th>\n",
       "      <td>171</td>\n",
       "      <td>39</td>\n",
       "      <td>199</td>\n",
       "      <td>121</td>\n",
       "      <td>238</td>\n",
       "      <td>62</td>\n",
       "      <td>59</td>\n",
       "      <td>61</td>\n",
       "      <td>170</td>\n",
       "      <td>146</td>\n",
       "      <td>96</td>\n",
       "      <td>76</td>\n",
       "      <td>121</td>\n",
       "      <td>139</td>\n",
       "      <td>76</td>\n",
       "      <td>102</td>\n",
       "      <td>146</td>\n",
       "      <td>142</td>\n",
       "      <td>159</td>\n",
       "      <td>64</td>\n",
       "      <td>0</td>\n",
       "      <td>252</td>\n",
       "      <td>119</td>\n",
       "      <td>134</td>\n",
       "      <td>93</td>\n",
       "      <td>90</td>\n",
       "      <td>176</td>\n",
       "      <td>215</td>\n",
       "      <td>120</td>\n",
       "      <td>42</td>\n",
       "      <td>134</td>\n",
       "      <td>160</td>\n",
       "      <td>159</td>\n",
       "      <td>87</td>\n",
       "      <td>86</td>\n",
       "      <td>190</td>\n",
       "      <td>111</td>\n",
       "      <td>89</td>\n",
       "      <td>61</td>\n",
       "      <td>47</td>\n",
       "      <td>...</td>\n",
       "      <td>0</td>\n",
       "      <td>122</td>\n",
       "      <td>186</td>\n",
       "      <td>246</td>\n",
       "      <td>109</td>\n",
       "      <td>111</td>\n",
       "      <td>255</td>\n",
       "      <td>101</td>\n",
       "      <td>31</td>\n",
       "      <td>93</td>\n",
       "      <td>115</td>\n",
       "      <td>112</td>\n",
       "      <td>0</td>\n",
       "      <td>51</td>\n",
       "      <td>201</td>\n",
       "      <td>138</td>\n",
       "      <td>227</td>\n",
       "      <td>93</td>\n",
       "      <td>190</td>\n",
       "      <td>142</td>\n",
       "      <td>119</td>\n",
       "      <td>255</td>\n",
       "      <td>157</td>\n",
       "      <td>91</td>\n",
       "      <td>252</td>\n",
       "      <td>89</td>\n",
       "      <td>237</td>\n",
       "      <td>53</td>\n",
       "      <td>98</td>\n",
       "      <td>0</td>\n",
       "      <td>70</td>\n",
       "      <td>0</td>\n",
       "      <td>237</td>\n",
       "      <td>0</td>\n",
       "      <td>49</td>\n",
       "      <td>255</td>\n",
       "      <td>126</td>\n",
       "      <td>188</td>\n",
       "      <td>255</td>\n",
       "      <td>kDCk3hLIVXo</td>\n",
       "    </tr>\n",
       "    <tr>\n",
       "      <th>2</th>\n",
       "      <td>169</td>\n",
       "      <td>33</td>\n",
       "      <td>200</td>\n",
       "      <td>97</td>\n",
       "      <td>210</td>\n",
       "      <td>22</td>\n",
       "      <td>73</td>\n",
       "      <td>51</td>\n",
       "      <td>169</td>\n",
       "      <td>129</td>\n",
       "      <td>101</td>\n",
       "      <td>91</td>\n",
       "      <td>110</td>\n",
       "      <td>158</td>\n",
       "      <td>72</td>\n",
       "      <td>116</td>\n",
       "      <td>117</td>\n",
       "      <td>113</td>\n",
       "      <td>131</td>\n",
       "      <td>68</td>\n",
       "      <td>0</td>\n",
       "      <td>255</td>\n",
       "      <td>80</td>\n",
       "      <td>187</td>\n",
       "      <td>57</td>\n",
       "      <td>100</td>\n",
       "      <td>229</td>\n",
       "      <td>138</td>\n",
       "      <td>130</td>\n",
       "      <td>26</td>\n",
       "      <td>110</td>\n",
       "      <td>125</td>\n",
       "      <td>188</td>\n",
       "      <td>62</td>\n",
       "      <td>55</td>\n",
       "      <td>138</td>\n",
       "      <td>118</td>\n",
       "      <td>93</td>\n",
       "      <td>109</td>\n",
       "      <td>69</td>\n",
       "      <td>...</td>\n",
       "      <td>0</td>\n",
       "      <td>183</td>\n",
       "      <td>255</td>\n",
       "      <td>253</td>\n",
       "      <td>187</td>\n",
       "      <td>137</td>\n",
       "      <td>255</td>\n",
       "      <td>178</td>\n",
       "      <td>0</td>\n",
       "      <td>255</td>\n",
       "      <td>252</td>\n",
       "      <td>182</td>\n",
       "      <td>0</td>\n",
       "      <td>46</td>\n",
       "      <td>49</td>\n",
       "      <td>154</td>\n",
       "      <td>243</td>\n",
       "      <td>89</td>\n",
       "      <td>160</td>\n",
       "      <td>65</td>\n",
       "      <td>105</td>\n",
       "      <td>153</td>\n",
       "      <td>96</td>\n",
       "      <td>94</td>\n",
       "      <td>208</td>\n",
       "      <td>147</td>\n",
       "      <td>204</td>\n",
       "      <td>129</td>\n",
       "      <td>48</td>\n",
       "      <td>0</td>\n",
       "      <td>48</td>\n",
       "      <td>106</td>\n",
       "      <td>207</td>\n",
       "      <td>0</td>\n",
       "      <td>39</td>\n",
       "      <td>234</td>\n",
       "      <td>205</td>\n",
       "      <td>33</td>\n",
       "      <td>255</td>\n",
       "      <td>kDCk3hLIVXo</td>\n",
       "    </tr>\n",
       "    <tr>\n",
       "      <th>3</th>\n",
       "      <td>180</td>\n",
       "      <td>39</td>\n",
       "      <td>218</td>\n",
       "      <td>118</td>\n",
       "      <td>213</td>\n",
       "      <td>73</td>\n",
       "      <td>80</td>\n",
       "      <td>43</td>\n",
       "      <td>160</td>\n",
       "      <td>147</td>\n",
       "      <td>97</td>\n",
       "      <td>45</td>\n",
       "      <td>92</td>\n",
       "      <td>145</td>\n",
       "      <td>109</td>\n",
       "      <td>84</td>\n",
       "      <td>152</td>\n",
       "      <td>174</td>\n",
       "      <td>137</td>\n",
       "      <td>94</td>\n",
       "      <td>58</td>\n",
       "      <td>188</td>\n",
       "      <td>52</td>\n",
       "      <td>148</td>\n",
       "      <td>28</td>\n",
       "      <td>119</td>\n",
       "      <td>155</td>\n",
       "      <td>222</td>\n",
       "      <td>79</td>\n",
       "      <td>97</td>\n",
       "      <td>159</td>\n",
       "      <td>189</td>\n",
       "      <td>66</td>\n",
       "      <td>114</td>\n",
       "      <td>126</td>\n",
       "      <td>183</td>\n",
       "      <td>146</td>\n",
       "      <td>70</td>\n",
       "      <td>95</td>\n",
       "      <td>151</td>\n",
       "      <td>...</td>\n",
       "      <td>0</td>\n",
       "      <td>194</td>\n",
       "      <td>232</td>\n",
       "      <td>248</td>\n",
       "      <td>110</td>\n",
       "      <td>124</td>\n",
       "      <td>255</td>\n",
       "      <td>62</td>\n",
       "      <td>0</td>\n",
       "      <td>111</td>\n",
       "      <td>90</td>\n",
       "      <td>159</td>\n",
       "      <td>94</td>\n",
       "      <td>155</td>\n",
       "      <td>157</td>\n",
       "      <td>35</td>\n",
       "      <td>255</td>\n",
       "      <td>13</td>\n",
       "      <td>228</td>\n",
       "      <td>199</td>\n",
       "      <td>245</td>\n",
       "      <td>56</td>\n",
       "      <td>166</td>\n",
       "      <td>192</td>\n",
       "      <td>239</td>\n",
       "      <td>186</td>\n",
       "      <td>205</td>\n",
       "      <td>46</td>\n",
       "      <td>194</td>\n",
       "      <td>19</td>\n",
       "      <td>117</td>\n",
       "      <td>35</td>\n",
       "      <td>137</td>\n",
       "      <td>0</td>\n",
       "      <td>58</td>\n",
       "      <td>255</td>\n",
       "      <td>103</td>\n",
       "      <td>153</td>\n",
       "      <td>255</td>\n",
       "      <td>kDCk3hLIVXo</td>\n",
       "    </tr>\n",
       "    <tr>\n",
       "      <th>4</th>\n",
       "      <td>166</td>\n",
       "      <td>31</td>\n",
       "      <td>204</td>\n",
       "      <td>134</td>\n",
       "      <td>211</td>\n",
       "      <td>59</td>\n",
       "      <td>62</td>\n",
       "      <td>73</td>\n",
       "      <td>187</td>\n",
       "      <td>167</td>\n",
       "      <td>71</td>\n",
       "      <td>69</td>\n",
       "      <td>114</td>\n",
       "      <td>171</td>\n",
       "      <td>75</td>\n",
       "      <td>110</td>\n",
       "      <td>88</td>\n",
       "      <td>113</td>\n",
       "      <td>147</td>\n",
       "      <td>103</td>\n",
       "      <td>19</td>\n",
       "      <td>238</td>\n",
       "      <td>111</td>\n",
       "      <td>141</td>\n",
       "      <td>9</td>\n",
       "      <td>107</td>\n",
       "      <td>204</td>\n",
       "      <td>177</td>\n",
       "      <td>107</td>\n",
       "      <td>0</td>\n",
       "      <td>89</td>\n",
       "      <td>61</td>\n",
       "      <td>187</td>\n",
       "      <td>109</td>\n",
       "      <td>139</td>\n",
       "      <td>103</td>\n",
       "      <td>169</td>\n",
       "      <td>91</td>\n",
       "      <td>3</td>\n",
       "      <td>129</td>\n",
       "      <td>...</td>\n",
       "      <td>0</td>\n",
       "      <td>99</td>\n",
       "      <td>241</td>\n",
       "      <td>223</td>\n",
       "      <td>212</td>\n",
       "      <td>122</td>\n",
       "      <td>255</td>\n",
       "      <td>148</td>\n",
       "      <td>0</td>\n",
       "      <td>148</td>\n",
       "      <td>158</td>\n",
       "      <td>62</td>\n",
       "      <td>5</td>\n",
       "      <td>217</td>\n",
       "      <td>107</td>\n",
       "      <td>145</td>\n",
       "      <td>216</td>\n",
       "      <td>134</td>\n",
       "      <td>55</td>\n",
       "      <td>63</td>\n",
       "      <td>71</td>\n",
       "      <td>255</td>\n",
       "      <td>71</td>\n",
       "      <td>127</td>\n",
       "      <td>164</td>\n",
       "      <td>37</td>\n",
       "      <td>213</td>\n",
       "      <td>173</td>\n",
       "      <td>215</td>\n",
       "      <td>0</td>\n",
       "      <td>0</td>\n",
       "      <td>0</td>\n",
       "      <td>219</td>\n",
       "      <td>0</td>\n",
       "      <td>152</td>\n",
       "      <td>255</td>\n",
       "      <td>58</td>\n",
       "      <td>177</td>\n",
       "      <td>255</td>\n",
       "      <td>kDCk3hLIVXo</td>\n",
       "    </tr>\n",
       "  </tbody>\n",
       "</table>\n",
       "</div>"
      ],
      "text/plain": [
       "   feature_0  feature_1     ...       feature_127       vid_id\n",
       "0        172         34     ...               255  kDCk3hLIVXo\n",
       "1        171         39     ...               255  kDCk3hLIVXo\n",
       "2        169         33     ...               255  kDCk3hLIVXo\n",
       "3        180         39     ...               255  kDCk3hLIVXo\n",
       "4        166         31     ...               255  kDCk3hLIVXo\n",
       "\n",
       "[5 rows x 129 columns]"
      ]
     },
     "execution_count": 15,
     "metadata": {},
     "output_type": "execute_result"
    }
   ],
   "source": [
    "auto_embed_values.columns=['feature_'+str(x) for x in auto_embed_values.columns[:128]] + ['vid_id']\n",
    "auto_embed_values.head()"
   ]
  },
  {
   "cell_type": "code",
   "execution_count": 16,
   "metadata": {},
   "outputs": [
    {
     "data": {
      "text/plain": [
       "(23634, 132)"
      ]
     },
     "execution_count": 16,
     "metadata": {},
     "output_type": "execute_result"
    }
   ],
   "source": [
    "data = pd.merge(data,auto_embed_values, left_index=True, right_on='vid_id',how='inner')\n",
    "data.drop(columns='audio_embedding',axis=1,inplace=True)\n",
    "data.shape"
   ]
  },
  {
   "cell_type": "code",
   "execution_count": 17,
   "metadata": {},
   "outputs": [
    {
     "data": {
      "text/plain": [
       "(11839, 132)"
      ]
     },
     "execution_count": 17,
     "metadata": {},
     "output_type": "execute_result"
    }
   ],
   "source": [
    "data[data['set']=='test'].shape"
   ]
  },
  {
   "cell_type": "code",
   "execution_count": 18,
   "metadata": {},
   "outputs": [
    {
     "name": "stdout",
     "output_type": "stream",
     "text": [
      "['start_time_seconds_youtube_clip']\n"
     ]
    }
   ],
   "source": [
    "#A nice way for identifying correlated features by Will Koehrsen in,\n",
    "#https://www.kaggle.com/willkoehrsen/a-complete-introduction-and-walkthrough\n",
    "data_corr = data.corr()\n",
    "upper = data_corr.where(np.triu(np.ones(data_corr.shape),k=1).astype(np.bool))\n",
    "to_drop = [col for col in data_corr.columns if any(abs(upper[col])>0.9)]\n",
    "print(to_drop)"
   ]
  },
  {
   "cell_type": "code",
   "execution_count": 19,
   "metadata": {},
   "outputs": [],
   "source": [
    "data_updated=data.copy()\n",
    "data_updated['duration'] = data['start_time_seconds_youtube_clip']-data['end_time_seconds_youtube_clip']\n",
    "data_updated.drop(columns='start_time_seconds_youtube_clip',axis=1,inplace=True)"
   ]
  },
  {
   "cell_type": "code",
   "execution_count": 20,
   "metadata": {},
   "outputs": [
    {
     "data": {
      "text/plain": [
       "(11839, 132)"
      ]
     },
     "execution_count": 20,
     "metadata": {},
     "output_type": "execute_result"
    }
   ],
   "source": [
    "data_updated[data_updated['set']=='test'].shape"
   ]
  },
  {
   "cell_type": "code",
   "execution_count": 21,
   "metadata": {},
   "outputs": [],
   "source": [
    "from sklearn.pipeline import make_pipeline\n",
    "from sklearn.model_selection import cross_val_score, GridSearchCV\n",
    "from sklearn.preprocessing import StandardScaler"
   ]
  },
  {
   "cell_type": "code",
   "execution_count": 22,
   "metadata": {},
   "outputs": [
    {
     "data": {
      "text/plain": [
       "array([[-0.16658737,  0.74209218, -0.22921266, ..., -1.11164483,\n",
       "         0.47353402, -0.08048369],\n",
       "       [-0.16658737,  0.71854469, -0.13260024, ...,  1.03511338,\n",
       "         0.47353402, -0.08048369],\n",
       "       [-0.16658737,  0.67144972, -0.24853514, ..., -0.77329707,\n",
       "         0.47353402, -0.08048369],\n",
       "       ...,\n",
       "       [-0.44422252,  0.57725978, -0.09395527, ...,  1.81681338,\n",
       "         0.47353402, -0.08048369],\n",
       "       [-0.44422252,  0.55371229, -0.19056769, ...,  0.96511039,\n",
       "         0.47353402, -0.08048369],\n",
       "       [-0.44422252,  0.6949972 , -0.0553103 , ...,  1.81681338,\n",
       "         0.47353402, -0.08048369]])"
      ]
     },
     "execution_count": 22,
     "metadata": {},
     "output_type": "execute_result"
    }
   ],
   "source": [
    "scorer = make_scorer(roc_auc_score, greater_is_better=True)\n",
    "final_train = data_updated[data_updated['set']=='train'].merge(tgt, how='inner', on='vid_id')\n",
    "final_test = data_updated[data_updated['set']=='test'].merge(submission, how='inner', on='vid_id')\n",
    "y_train = final_train[['is_turkey']]\n",
    "X_train = final_train.drop(columns=['vid_id','set','is_turkey'],axis=1)\n",
    "y_test = final_test[['is_turkey']]\n",
    "X_test = final_test.drop(columns=['vid_id','set','is_turkey'],axis=1)\n",
    "sc = StandardScaler()\n",
    "X_train_stdsc = sc.fit_transform(X_train)\n",
    "X_test_stdsc = sc.transform(X_test)\n",
    "X_train_stdsc"
   ]
  },
  {
   "cell_type": "code",
   "execution_count": 23,
   "metadata": {},
   "outputs": [],
   "source": [
    "model_results = pd.DataFrame(columns=['model','cv_mean','cv_std'])\n",
    "def model_cv(model, X_train, y_train, name, nfolds=10, model_results=None):\n",
    "    cv_scores = cross_val_score(estimator=model, \n",
    "                                X=X_train, y=y_train,\n",
    "                                scoring=scorer, n_jobs=-1,\n",
    "                                cv=nfolds\n",
    "                               )\n",
    "    print(f'{nfolds} CV score: {round(cv_scores.mean(), 5)} with std: {round(cv_scores.std(), 5)}')\n",
    "    if model_results is not None:\n",
    "        model_results = model_results.append({'model':name,'cv_mean':cv_scores.mean(),'cv_std':cv_scores.std()},\n",
    "                                             ignore_index=True)\n",
    "    return model_results"
   ]
  },
  {
   "cell_type": "code",
   "execution_count": 24,
   "metadata": {},
   "outputs": [
    {
     "name": "stdout",
     "output_type": "stream",
     "text": [
      "10 CV score: 0.8854 with std: 0.0205\n"
     ]
    }
   ],
   "source": [
    "#Baseline Logreg score\n",
    "model_results = model_cv(model = LogisticRegression(),\n",
    "                         X_train=X_train,\n",
    "                         y_train = y_train,\n",
    "                         name = 'LogReg',\n",
    "                         nfolds=10,\n",
    "                         model_results=model_results                        \n",
    "                        )"
   ]
  },
  {
   "cell_type": "code",
   "execution_count": 25,
   "metadata": {},
   "outputs": [],
   "source": [
    "def gridsearch(model, param_grid, X_train, y_train, nfolds):\n",
    "    gs = GridSearchCV(estimator=model,param_grid=param_grid, n_jobs=-1, scoring=scorer, cv=nfolds, iid=True\n",
    "                      ,verbose=10)\n",
    "    gs.fit(X_train,y_train)\n",
    "    #scores = cross_val_score(estimator=gs, X=X_train_stdsc, y=y_train, cv=nfolds, scoring=scorer,n_jobs=-1)\n",
    "\n",
    "    #print(f'10 fold CV score: {round(scores.mean(), 5)} with std: {round(scores.std(), 5)}')\n",
    "    print(f'best score: {gs.best_score_}\\n Best Params: {gs.best_params_}')\n",
    "    return gs.best_score_, gs.best_params_"
   ]
  },
  {
   "cell_type": "code",
   "execution_count": 26,
   "metadata": {},
   "outputs": [
    {
     "data": {
      "text/plain": [
       "array([0])"
      ]
     },
     "execution_count": 26,
     "metadata": {},
     "output_type": "execute_result"
    }
   ],
   "source": [
    "submission['is_turkey'].unique()"
   ]
  },
  {
   "cell_type": "code",
   "execution_count": 27,
   "metadata": {},
   "outputs": [
    {
     "name": "stdout",
     "output_type": "stream",
     "text": [
      "Fitting 10 folds for each of 28 candidates, totalling 280 fits\n"
     ]
    },
    {
     "name": "stderr",
     "output_type": "stream",
     "text": [
      "[Parallel(n_jobs=-1)]: Using backend LokyBackend with 4 concurrent workers.\n",
      "[Parallel(n_jobs=-1)]: Batch computation too fast (0.1703s.) Setting batch_size=2.\n",
      "[Parallel(n_jobs=-1)]: Done   5 tasks      | elapsed:    0.4s\n",
      "[Parallel(n_jobs=-1)]: Done  12 tasks      | elapsed:    1.3s\n",
      "[Parallel(n_jobs=-1)]: Done  26 tasks      | elapsed:    2.4s\n",
      "[Parallel(n_jobs=-1)]: Done  40 tasks      | elapsed:    3.5s\n",
      "[Parallel(n_jobs=-1)]: Done  58 tasks      | elapsed:    5.9s\n",
      "[Parallel(n_jobs=-1)]: Done  76 tasks      | elapsed:    7.8s\n",
      "[Parallel(n_jobs=-1)]: Batch computation too slow (2.0182s.) Setting batch_size=1.\n",
      "[Parallel(n_jobs=-1)]: Done  97 tasks      | elapsed:   10.9s\n",
      "[Parallel(n_jobs=-1)]: Done 110 tasks      | elapsed:   12.2s\n",
      "[Parallel(n_jobs=-1)]: Done 123 tasks      | elapsed:   14.6s\n",
      "[Parallel(n_jobs=-1)]: Done 136 tasks      | elapsed:   17.5s\n",
      "[Parallel(n_jobs=-1)]: Done 151 tasks      | elapsed:   20.8s\n",
      "[Parallel(n_jobs=-1)]: Done 166 tasks      | elapsed:   23.9s\n",
      "[Parallel(n_jobs=-1)]: Done 183 tasks      | elapsed:   28.3s\n",
      "[Parallel(n_jobs=-1)]: Done 200 tasks      | elapsed:   32.3s\n",
      "[Parallel(n_jobs=-1)]: Done 219 tasks      | elapsed:   36.9s\n",
      "[Parallel(n_jobs=-1)]: Done 238 tasks      | elapsed:   41.8s\n",
      "[Parallel(n_jobs=-1)]: Done 259 tasks      | elapsed:   47.2s\n",
      "[Parallel(n_jobs=-1)]: Done 280 out of 280 | elapsed:   52.2s finished\n",
      "/opt/conda/lib/python3.6/site-packages/sklearn/linear_model/logistic.py:1544: UserWarning: 'n_jobs' > 1 does not have any effect when 'solver' is set to 'liblinear'. Got 'n_jobs' = 4.\n",
      "  \" = {}.\".format(effective_n_jobs(self.n_jobs)))\n"
     ]
    },
    {
     "name": "stdout",
     "output_type": "stream",
     "text": [
      "best score: 0.8902861771163731\n",
      " Best Params: {'C': 0.001, 'class_weight': 'balanced', 'penalty': 'l2'}\n"
     ]
    }
   ],
   "source": [
    "param_grid = [{'penalty':['l1','l2'],\n",
    "               'C':[0.0001, 0.001, 0.01, 0.1, 1, 10, 100] ,\n",
    "               'class_weight':[None, 'balanced']\n",
    "              }]\n",
    "best_score_logreg, best_param_logreg = gridsearch(model = LogisticRegression(solver='liblinear',multi_class='ovr', n_jobs=-1)\n",
    "                  , param_grid=param_grid, X_train=X_train_stdsc, y_train = y_train.values.ravel() , nfolds=10)"
   ]
  },
  {
   "cell_type": "code",
   "execution_count": 28,
   "metadata": {},
   "outputs": [
    {
     "name": "stdout",
     "output_type": "stream",
     "text": [
      "10 CV score: 0.89028 with std: 0.01639\n"
     ]
    }
   ],
   "source": [
    "model_results = model_cv(model = LogisticRegression(**best_param_logreg),\n",
    "                         X_train=X_train_stdsc,\n",
    "                         y_train = y_train,\n",
    "                         name = 'LogReg_stdsc_gs',\n",
    "                         nfolds=10,\n",
    "                         model_results=model_results                        \n",
    "                        )"
   ]
  },
  {
   "cell_type": "code",
   "execution_count": 29,
   "metadata": {},
   "outputs": [
    {
     "name": "stdout",
     "output_type": "stream",
     "text": [
      "10 CV score: 0.88838 with std: 0.01539\n",
      "Total TIme: 37.97131657600403\n"
     ]
    }
   ],
   "source": [
    "#SVM\n",
    "from sklearn.svm import SVC\n",
    "import time\n",
    "start= time.time()\n",
    "model_results = model_cv(model = SVC(),\n",
    "                         X_train=X_train_stdsc,\n",
    "                         y_train = y_train,\n",
    "                         name = 'SVC',\n",
    "                         nfolds=10,\n",
    "                         model_results=model_results                        \n",
    "                        )\n",
    "end=time.time()\n",
    "print(f'Total TIme: {end-start}')"
   ]
  },
  {
   "cell_type": "code",
   "execution_count": 30,
   "metadata": {},
   "outputs": [],
   "source": [
    "#reg_range = [0.0001, 0.001, 0.01, 0.1, 1, 10, 100] \n",
    "#param_grid=[{'C':reg_range,\n",
    "#             'kernel':['linear']\n",
    "##             'gamma':range(1,20,5)\n",
    "#            }]\n",
    "#\n",
    "#best_score_svc, best_param_svc = gridsearch(model = SVC()\n",
    "#                  , param_grid=param_grid, X_train=X_train_stdsc, y_train = y_train.values.ravel() , nfolds=2)"
   ]
  },
  {
   "cell_type": "code",
   "execution_count": 31,
   "metadata": {},
   "outputs": [
    {
     "name": "stdout",
     "output_type": "stream",
     "text": [
      "10 CV score: 0.88322 with std: 0.02247\n",
      "Total TIme: 30.201937913894653\n"
     ]
    }
   ],
   "source": [
    "best_param_svc= {'C': 0.001, 'kernel': 'linear'}\n",
    "start= time.time()\n",
    "model_results = model_cv(model = SVC(**best_param_svc),\n",
    "                         X_train=X_train_stdsc,\n",
    "                         y_train = y_train,\n",
    "                         name = 'SVC_gs',\n",
    "                         nfolds=10,\n",
    "                         model_results=model_results                        \n",
    "                        )\n",
    "end=time.time()\n",
    "print(f'Total TIme: {end-start}')"
   ]
  },
  {
   "cell_type": "code",
   "execution_count": 32,
   "metadata": {},
   "outputs": [
    {
     "name": "stdout",
     "output_type": "stream",
     "text": [
      "10 CV score: 0.88137 with std: 0.02049\n",
      "Total TIme: 25.58137083053589\n"
     ]
    }
   ],
   "source": [
    "from sklearn.ensemble import RandomForestClassifier\n",
    "start= time.time()\n",
    "model_results = model_cv(model = RandomForestClassifier(n_estimators=100),\n",
    "                         X_train=X_train_stdsc,\n",
    "                         y_train = y_train,\n",
    "                         name = 'RFC',\n",
    "                         nfolds=10,\n",
    "                         model_results=model_results                        \n",
    "                        )\n",
    "end=time.time()\n",
    "print(f'Total TIme: {end-start}')"
   ]
  },
  {
   "cell_type": "code",
   "execution_count": 33,
   "metadata": {},
   "outputs": [],
   "source": [
    "#reg_range = [0.0001, 0.001, 0.01, 0.1, 1, 10, 100] \n",
    "#param_grid=[{'n_estimators':range(50,500,50),\n",
    "#             'max_depth':range(2,150,10),\n",
    "#             'min_samples_split':[2,5,10],\n",
    "#             'min_samples_leaf':[1,2,4],\n",
    "#             'bootstrap':[True,False]\n",
    "#            }]\n",
    "#\n",
    "#best_score_rfc, best_param_rfc = gridsearch(model = RandomForestClassifier()\n",
    "#                  , param_grid=param_grid, X_train=X_train_stdsc, y_train = y_train.values.ravel() , nfolds=2)"
   ]
  },
  {
   "cell_type": "code",
   "execution_count": 34,
   "metadata": {},
   "outputs": [
    {
     "name": "stdout",
     "output_type": "stream",
     "text": [
      "10 CV score: 0.88378 with std: 0.02105\n",
      "Total TIme: 158.82638144493103\n"
     ]
    }
   ],
   "source": [
    "start= time.time()\n",
    "model_results = model_cv(model = RandomForestClassifier(n_estimators=400, bootstrap=False,\n",
    "                                                        max_depth=132,min_samples_leaf=1,\n",
    "                                                        min_samples_split=5\n",
    "                                                       ),\n",
    "                         X_train=X_train_stdsc,\n",
    "                         y_train = y_train,\n",
    "                         name = 'RFC_gs',\n",
    "                         nfolds=10,\n",
    "                         model_results=model_results                        \n",
    "                        )\n",
    "end=time.time()\n",
    "print(f'Total TIme: {end-start}')"
   ]
  },
  {
   "cell_type": "code",
   "execution_count": 35,
   "metadata": {},
   "outputs": [
    {
     "name": "stdout",
     "output_type": "stream",
     "text": [
      "KNN neighbors: 2\n",
      "10 CV score: 0.83161 with std: 0.02049\n",
      "Total TIme for KNN-2: 21.079197883605957\n",
      "KNN neighbors: 5\n",
      "10 CV score: 0.87406 with std: 0.01711\n",
      "Total TIme for KNN-5: 21.232542991638184\n",
      "KNN neighbors: 10\n",
      "10 CV score: 0.87153 with std: 0.02033\n",
      "Total TIme for KNN-10: 21.449723482131958\n",
      "KNN neighbors: 20\n",
      "10 CV score: 0.87394 with std: 0.01884\n",
      "Total TIme for KNN-20: 21.23302149772644\n"
     ]
    }
   ],
   "source": [
    "from sklearn.neighbors import KNeighborsClassifier\n",
    "for i in [2,5,10,20]:\n",
    "    print(f'KNN neighbors: {i}')\n",
    "    start= time.time()\n",
    "    model_results = model_cv(model = KNeighborsClassifier(n_neighbors=i),\n",
    "                             X_train=X_train_stdsc,\n",
    "                             y_train = y_train,\n",
    "                             name = f'KNN-{i}',\n",
    "                             nfolds=10,\n",
    "                             model_results=model_results                        \n",
    "                            )\n",
    "    end=time.time()\n",
    "    print(f'Total TIme for KNN-{i}: {end-start}')\n",
    "    "
   ]
  },
  {
   "cell_type": "code",
   "execution_count": 36,
   "metadata": {},
   "outputs": [
    {
     "name": "stdout",
     "output_type": "stream",
     "text": [
      "10 CV score: 0.88208 with std: 0.01599\n",
      "Total TIme: 18.88165259361267\n"
     ]
    }
   ],
   "source": [
    "from lightgbm import LGBMClassifier\n",
    "start= time.time()\n",
    "model_results = model_cv(model = LGBMClassifier(),\n",
    "                         X_train=X_train_stdsc,\n",
    "                         y_train = y_train,\n",
    "                         name = 'LGBM',\n",
    "                         nfolds=10,\n",
    "                         model_results=model_results                        \n",
    "                        )\n",
    "end=time.time()\n",
    "print(f'Total TIme: {end-start}')"
   ]
  },
  {
   "cell_type": "code",
   "execution_count": 37,
   "metadata": {},
   "outputs": [
    {
     "data": {
      "text/plain": [
       "Text(0, 0.5, 'Mean F1 Score (with error bar)')"
      ]
     },
     "execution_count": 37,
     "metadata": {},
     "output_type": "execute_result"
    },
    {
     "data": {
      "image/png": "[encoded data removed]",
      "text/plain": [
       "<Figure size 1080x864 with 1 Axes>"
      ]
     },
     "metadata": {
      "needs_background": "light"
     },
     "output_type": "display_data"
    }
   ],
   "source": [
    "plt.figure(figsize=(15,12))\n",
    "sns.barplot(data=model_results, x='model',y='cv_mean',yerr=list(model_results['cv_std']),color='orange',edgecolor='k',linewidth=2)\n",
    "plt.xticks(rotation=90)\n",
    "plt.title('Model F1 Score Results')\n",
    "plt.ylabel('Mean F1 Score (with error bar)')"
   ]
  },
  {
   "cell_type": "code",
   "execution_count": 38,
   "metadata": {},
   "outputs": [],
   "source": [
    "#scorer = make_scorer(roc_auc_score, greater_is_better=True)\n",
    "final_train = data_updated[data_updated['set']=='train'].merge(tgt, how='inner', on='vid_id')\n",
    "final_test = data_updated[data_updated['set']=='test'].merge(submission, how='inner', on='vid_id')\n",
    "#y_train = final_train[['is_turkey']]\n",
    "X_train2 = final_train.drop(columns=['set'],axis=1)\n",
    "#y_test = final_test[['is_turkey']]\n",
    "X_test2 = final_test.drop(columns=['set'],axis=1)\n",
    "#sc = StandardScaler()\n",
    "#X_train_stdsc = sc.fit_transform(X_train)\n",
    "#X_test_stdsc = sc.transform(X_test)\n",
    "#X_train_stdsc"
   ]
  },
  {
   "cell_type": "code",
   "execution_count": 39,
   "metadata": {},
   "outputs": [],
   "source": [
    "#Adding additional information from data\n",
    "#https://www.kaggle.com/frtgnn/yam-potatoes-thanksgiving-2018\n",
    "#Thanks!\n",
    "\n",
    "X_train2_columns = X_train2.columns\n",
    "X_test2_columns  = X_test2.columns\n",
    "\n",
    "X_train2['all_feature_mean'] = X_train2[X_train2_columns[4:131]].mean(axis=1)\n",
    "X_test2['all_feature_mean']  = X_test2[X_test2_columns[3:130]].mean(axis=1)\n",
    "\n",
    "X_train2['all_feature_median'] = X_train2[X_train2_columns[4:131]].median(axis=1)\n",
    "X_test2['all_feature_median']  = X_test2[X_test2_columns[3:130]].median(axis=1)\n",
    "\n",
    "X_train2['all_feature_min'] = X_train2[X_train2_columns[4:131]].min(axis=1)\n",
    "X_test2['all_feature_min']  = X_test2[X_test2_columns[3:130]].min(axis=1)\n",
    "\n",
    "X_train2['all_feature_max'] = X_train2[X_train2_columns[4:131]].max(axis=1)\n",
    "X_test2['all_feature_max']  = X_test2[X_test2_columns[3:130]].max(axis=1)\n",
    "\n",
    "X_train2['all_feature_std'] = X_train2[X_train2_columns[4:131]].std(axis=1)\n",
    "X_test2['all_feature_std']  = X_test2[X_test2_columns[3:130]].std(axis=1)"
   ]
  },
  {
   "cell_type": "code",
   "execution_count": 40,
   "metadata": {},
   "outputs": [],
   "source": [
    "X_train2_concat = X_train2.groupby('vid_id').mean()\n",
    "y_train_concat = X_train2_concat['is_turkey']\n",
    "X_train2_concat.drop(['is_turkey'],axis=1,inplace=True)\n",
    "\n",
    "X_test2_concat = X_test2.groupby('vid_id').mean()\n",
    "y_test = X_test2_concat['is_turkey']\n",
    "X_test2_concat.drop(['is_turkey'],axis=1,inplace=True)"
   ]
  },
  {
   "cell_type": "code",
   "execution_count": 41,
   "metadata": {},
   "outputs": [
    {
     "data": {
      "text/plain": [
       "array([[-0.71503497, -0.35027356,  2.34576809, ..., -0.11576637,\n",
       "         0.13217716, -0.17959525],\n",
       "       [ 1.60610353, -2.50978043,  1.56972125, ..., -0.11576637,\n",
       "         0.13217716,  1.72416946],\n",
       "       [ 1.23472137, -1.34465114,  0.81844186, ..., -0.11576637,\n",
       "         0.13217716, -1.09741339],\n",
       "       ...,\n",
       "       [-0.43649835,  0.87260999, -0.39722726, ..., -0.11576637,\n",
       "         0.13217716,  0.40608367],\n",
       "       [-0.06511619,  0.32017799, -0.66554132, ..., -0.11576637,\n",
       "         0.13217716, -0.01236945],\n",
       "       [-0.67789675, -0.35278461,  2.02172726, ..., -0.11576637,\n",
       "         0.13217716,  0.45334572]])"
      ]
     },
     "execution_count": 41,
     "metadata": {},
     "output_type": "execute_result"
    }
   ],
   "source": [
    "sc = StandardScaler()\n",
    "X_train2_concat_stdsc = sc.fit_transform(X_train2_concat)\n",
    "X_test2_concat_stdsc = sc.transform(X_test2_concat)\n",
    "X_train2_concat_stdsc"
   ]
  },
  {
   "cell_type": "code",
   "execution_count": 42,
   "metadata": {},
   "outputs": [
    {
     "name": "stdout",
     "output_type": "stream",
     "text": [
      "10 CV score: 0.92716 with std: 0.01833\n"
     ]
    }
   ],
   "source": [
    "model_results = model_cv(model = LogisticRegression(),\n",
    "                         X_train=X_train2_concat,\n",
    "                         y_train = y_train_concat,\n",
    "                         name = 'LogReg_new_data',\n",
    "                         nfolds=10,\n",
    "                         model_results=model_results                        \n",
    "                        )"
   ]
  },
  {
   "cell_type": "code",
   "execution_count": 43,
   "metadata": {},
   "outputs": [
    {
     "name": "stdout",
     "output_type": "stream",
     "text": [
      "Fitting 10 folds for each of 160 candidates, totalling 1600 fits\n"
     ]
    },
    {
     "name": "stderr",
     "output_type": "stream",
     "text": [
      "[Parallel(n_jobs=-1)]: Using backend LokyBackend with 4 concurrent workers.\n",
      "[Parallel(n_jobs=-1)]: Batch computation too fast (0.0359s.) Setting batch_size=10.\n",
      "[Parallel(n_jobs=-1)]: Done   5 tasks      | elapsed:    0.1s\n",
      "[Parallel(n_jobs=-1)]: Done  28 tasks      | elapsed:    1.3s\n",
      "[Parallel(n_jobs=-1)]: Batch computation too slow (2.1573s.) Setting batch_size=5.\n",
      "[Parallel(n_jobs=-1)]: Done  98 tasks      | elapsed:    5.0s\n",
      "[Parallel(n_jobs=-1)]: Batch computation too slow (7.5819s.) Setting batch_size=2.\n",
      "[Parallel(n_jobs=-1)]: Done 158 tasks      | elapsed:   13.4s\n",
      "[Parallel(n_jobs=-1)]: Batch computation too slow (14.2685s.) Setting batch_size=1.\n",
      "[Parallel(n_jobs=-1)]: Done 191 tasks      | elapsed:   29.8s\n",
      "[Parallel(n_jobs=-1)]: Done 203 tasks      | elapsed:   35.4s\n",
      "[Parallel(n_jobs=-1)]: Done 214 tasks      | elapsed:   41.7s\n",
      "[Parallel(n_jobs=-1)]: Done 225 tasks      | elapsed:   51.2s\n",
      "[Parallel(n_jobs=-1)]: Done 238 tasks      | elapsed:   56.2s\n",
      "[Parallel(n_jobs=-1)]: Done 251 tasks      | elapsed:  1.1min\n",
      "[Parallel(n_jobs=-1)]: Done 266 tasks      | elapsed:  1.3min\n",
      "[Parallel(n_jobs=-1)]: Done 281 tasks      | elapsed:  1.4min\n",
      "[Parallel(n_jobs=-1)]: Done 298 tasks      | elapsed:  1.5min\n",
      "[Parallel(n_jobs=-1)]: Done 315 tasks      | elapsed:  1.7min\n",
      "[Parallel(n_jobs=-1)]: Done 334 tasks      | elapsed:  1.8min\n",
      "[Parallel(n_jobs=-1)]: Done 353 tasks      | elapsed:  1.8min\n",
      "[Parallel(n_jobs=-1)]: Done 374 tasks      | elapsed:  1.9min\n",
      "[Parallel(n_jobs=-1)]: Done 395 tasks      | elapsed:  1.9min\n",
      "[Parallel(n_jobs=-1)]: Done 418 tasks      | elapsed:  2.0min\n",
      "[Parallel(n_jobs=-1)]: Done 441 tasks      | elapsed:  2.0min\n",
      "[Parallel(n_jobs=-1)]: Done 466 tasks      | elapsed:  2.1min\n",
      "[Parallel(n_jobs=-1)]: Done 491 tasks      | elapsed:  2.2min\n",
      "[Parallel(n_jobs=-1)]: Done 518 tasks      | elapsed:  2.2min\n",
      "[Parallel(n_jobs=-1)]: Done 545 tasks      | elapsed:  2.3min\n",
      "[Parallel(n_jobs=-1)]: Done 574 tasks      | elapsed:  2.4min\n",
      "[Parallel(n_jobs=-1)]: Done 603 tasks      | elapsed:  2.5min\n",
      "[Parallel(n_jobs=-1)]: Done 634 tasks      | elapsed:  2.6min\n",
      "[Parallel(n_jobs=-1)]: Done 665 tasks      | elapsed:  2.7min\n",
      "[Parallel(n_jobs=-1)]: Done 698 tasks      | elapsed:  2.8min\n",
      "[Parallel(n_jobs=-1)]: Done 731 tasks      | elapsed:  3.0min\n",
      "[Parallel(n_jobs=-1)]: Done 766 tasks      | elapsed:  3.1min\n",
      "[Parallel(n_jobs=-1)]: Done 801 tasks      | elapsed:  3.2min\n",
      "[Parallel(n_jobs=-1)]: Done 838 tasks      | elapsed:  3.4min\n",
      "[Parallel(n_jobs=-1)]: Done 875 tasks      | elapsed:  3.5min\n",
      "[Parallel(n_jobs=-1)]: Done 914 tasks      | elapsed:  3.8min\n",
      "[Parallel(n_jobs=-1)]: Done 953 tasks      | elapsed:  3.9min\n",
      "[Parallel(n_jobs=-1)]: Done 994 tasks      | elapsed:  4.2min\n",
      "[Parallel(n_jobs=-1)]: Done 1035 tasks      | elapsed:  4.3min\n",
      "[Parallel(n_jobs=-1)]: Done 1078 tasks      | elapsed:  4.6min\n",
      "[Parallel(n_jobs=-1)]: Done 1121 tasks      | elapsed:  4.7min\n",
      "[Parallel(n_jobs=-1)]: Done 1166 tasks      | elapsed:  5.0min\n",
      "[Parallel(n_jobs=-1)]: Done 1211 tasks      | elapsed:  5.2min\n",
      "[Parallel(n_jobs=-1)]: Done 1258 tasks      | elapsed:  5.4min\n",
      "[Parallel(n_jobs=-1)]: Done 1305 tasks      | elapsed:  5.6min\n",
      "[Parallel(n_jobs=-1)]: Done 1354 tasks      | elapsed:  5.7min\n",
      "[Parallel(n_jobs=-1)]: Done 1403 tasks      | elapsed:  6.0min\n",
      "[Parallel(n_jobs=-1)]: Done 1454 tasks      | elapsed:  6.1min\n",
      "[Parallel(n_jobs=-1)]: Done 1505 tasks      | elapsed:  6.2min\n",
      "[Parallel(n_jobs=-1)]: Done 1558 tasks      | elapsed:  6.3min\n",
      "[Parallel(n_jobs=-1)]: Done 1600 out of 1600 | elapsed:  6.4min finished\n"
     ]
    },
    {
     "name": "stdout",
     "output_type": "stream",
     "text": [
      "best score: 0.9569708892927197\n",
      " Best Params: {'C': 0.01, 'class_weight': 'balanced', 'penalty': 'l1', 'solver': 'saga'}\n"
     ]
    },
    {
     "name": "stderr",
     "output_type": "stream",
     "text": [
      "/opt/conda/lib/python3.6/site-packages/sklearn/linear_model/sag.py:337: ConvergenceWarning: The max_iter was reached which means the coef_ did not converge\n",
      "  \"the coef_ did not converge\", ConvergenceWarning)\n"
     ]
    }
   ],
   "source": [
    "param_grid = [{'penalty':['l1'],\n",
    "               'solver':['liblinear','saga'],\n",
    "               'C':[0.00001,0.0001, 0.001, 0.01, 0.1, 1, 10, 100] ,\n",
    "               'class_weight':[None, 'balanced']},\n",
    "              {'solver':['newton-cg', 'lbfgs', 'sag','saga'],\n",
    "               'penalty':['l2','none'],\n",
    "               'C':[0.00001,0.0001, 0.001, 0.01, 0.1, 1, 10, 100] ,\n",
    "               'class_weight':[None, 'balanced']                 \n",
    "              }]\n",
    "best_score_logreg, best_param_logreg = gridsearch(model = LogisticRegression(multi_class='ovr', n_jobs=-1,max_iter=100)\n",
    "                  , param_grid=param_grid, X_train=X_train2_concat, y_train = y_train_concat.values.ravel() , nfolds=10)"
   ]
  },
  {
   "cell_type": "code",
   "execution_count": 44,
   "metadata": {},
   "outputs": [
    {
     "name": "stdout",
     "output_type": "stream",
     "text": [
      "10 CV score: 0.95625 with std: 0.01822\n"
     ]
    }
   ],
   "source": [
    "model_results = model_cv(model = LogisticRegression(**best_param_logreg),\n",
    "                         X_train=X_train2_concat,\n",
    "                         y_train = y_train_concat,\n",
    "                         name = 'LogReg_new_data_gs',\n",
    "                         nfolds=10,\n",
    "                         model_results=model_results                        \n",
    "                        )"
   ]
  },
  {
   "cell_type": "code",
   "execution_count": null,
   "metadata": {},
   "outputs": [],
   "source": []
  },
  {
   "cell_type": "code",
   "execution_count": 45,
   "metadata": {},
   "outputs": [
    {
     "name": "stdout",
     "output_type": "stream",
     "text": [
      "10 CV score: 0.5 with std: 0.0\n",
      "Total TIme: 1.1166093349456787\n"
     ]
    }
   ],
   "source": [
    "import time\n",
    "from sklearn.svm import SVC\n",
    "start= time.time()\n",
    "model_results = model_cv(model = SVC(),\n",
    "                         X_train=X_train2_concat,\n",
    "                         y_train = y_train_concat,\n",
    "                         name = 'SVC_new_data',\n",
    "                         nfolds=10,\n",
    "                         model_results=model_results                        \n",
    "                        )\n",
    "end=time.time()\n",
    "print(f'Total TIme: {end-start}')"
   ]
  },
  {
   "cell_type": "code",
   "execution_count": 46,
   "metadata": {},
   "outputs": [],
   "source": [
    "#reg_range = [0.0001, 0.001, 0.01, 0.1, 1, 10, 100] \n",
    "#param_grid=[{'C':reg_range,\n",
    "#             'kernel':['poly'],\n",
    "#             'gamma':range(1,5,1),\n",
    "#             'degree':range(1,5,1)\n",
    "#            }]\n",
    "#\n",
    "#best_score_svc, best_param_svc = gridsearch(model = SVC()\n",
    "#                  , param_grid=param_grid, X_train=X_train2_concat, y_train = y_train_concat.values.ravel() , nfolds=2)"
   ]
  },
  {
   "cell_type": "code",
   "execution_count": null,
   "metadata": {},
   "outputs": [],
   "source": []
  },
  {
   "cell_type": "code",
   "execution_count": 47,
   "metadata": {},
   "outputs": [
    {
     "name": "stdout",
     "output_type": "stream",
     "text": [
      "10 CV score: 0.94143 with std: 0.01764\n",
      "Total TIme: 0.3207228183746338\n"
     ]
    }
   ],
   "source": [
    "best_param_svc= {'C': 0.0001, 'degree': 4, 'gamma': 1, 'kernel': 'poly'}\n",
    "start= time.time()\n",
    "model_results = model_cv(model = SVC(**best_param_svc),\n",
    "                         X_train=X_train2_concat,\n",
    "                         y_train = y_train_concat,\n",
    "                         name = 'SVC_new_data_gs',\n",
    "                         nfolds=10,\n",
    "                         model_results=model_results                        \n",
    "                        )\n",
    "end=time.time()\n",
    "print(f'Total TIme: {end-start}')"
   ]
  },
  {
   "cell_type": "code",
   "execution_count": 48,
   "metadata": {},
   "outputs": [
    {
     "name": "stdout",
     "output_type": "stream",
     "text": [
      "10 CV score: 0.93249 with std: 0.02818\n",
      "Total TIme: 2.575547456741333\n"
     ]
    }
   ],
   "source": [
    "from sklearn.ensemble import RandomForestClassifier\n",
    "start= time.time()\n",
    "model_results = model_cv(model = RandomForestClassifier(n_estimators=100),\n",
    "                         X_train=X_train2_concat,\n",
    "                         y_train = y_train_concat,\n",
    "                         name = 'RFC_new_data',\n",
    "                         nfolds=10,\n",
    "                         model_results=model_results                        \n",
    "                        )\n",
    "end=time.time()\n",
    "print(f'Total TIme: {end-start}')"
   ]
  },
  {
   "cell_type": "code",
   "execution_count": 49,
   "metadata": {},
   "outputs": [],
   "source": [
    "#reg_range = [0.0001, 0.001, 0.01, 0.1, 1, 10, 100] \n",
    "#param_grid=[{'n_estimators':range(400,600,50),\n",
    "#             'max_depth':range(120,150,10),\n",
    "#             'min_samples_split':[2,5,10],\n",
    "#             'min_samples_leaf':[1,2,3],\n",
    "#             'bootstrap':[True,False]\n",
    "#            }]\n",
    "\n",
    "#best_score_rfc, best_param_rfc = gridsearch(model = RandomForestClassifier()\n",
    "#                  , param_grid=param_grid, X_train=X_train2_concat, y_train = y_train_concat.values.ravel() , nfolds=5)"
   ]
  },
  {
   "cell_type": "code",
   "execution_count": 50,
   "metadata": {},
   "outputs": [
    {
     "name": "stdout",
     "output_type": "stream",
     "text": [
      "10 CV score: 0.93621 with std: 0.02756\n",
      "Total TIme: 3.8079607486724854\n"
     ]
    }
   ],
   "source": [
    "best_param_rfc= {'bootstrap': True, 'max_depth': 62, 'min_samples_leaf': 1, 'min_samples_split': 10, 'n_estimators': 150}\n",
    "start= time.time()\n",
    "model_results = model_cv(model = RandomForestClassifier(**best_param_rfc),\n",
    "                         X_train=X_train2_concat,\n",
    "                         y_train = y_train_concat,\n",
    "                         name = 'RFC_new_data_gs',\n",
    "                         nfolds=10,\n",
    "                         model_results=model_results                        \n",
    "                        )\n",
    "end=time.time()\n",
    "print(f'Total TIme: {end-start}')"
   ]
  },
  {
   "cell_type": "code",
   "execution_count": 51,
   "metadata": {},
   "outputs": [
    {
     "name": "stdout",
     "output_type": "stream",
     "text": [
      "KNN neighbors: 2\n",
      "10 CV score: 0.88238 with std: 0.03146\n",
      "Total TIme for KNN-2: 0.29679322242736816\n",
      "KNN neighbors: 5\n",
      "10 CV score: 0.9205 with std: 0.02189\n",
      "Total TIme for KNN-5: 0.2882823944091797\n",
      "KNN neighbors: 10\n",
      "10 CV score: 0.91743 with std: 0.01686\n",
      "Total TIme for KNN-10: 0.2967355251312256\n",
      "KNN neighbors: 20\n",
      "10 CV score: 0.91213 with std: 0.0175\n",
      "Total TIme for KNN-20: 0.29691386222839355\n"
     ]
    }
   ],
   "source": [
    "from sklearn.neighbors import KNeighborsClassifier\n",
    "for i in [2,5,10,20]:\n",
    "    print(f'KNN neighbors: {i}')\n",
    "    start= time.time()\n",
    "    model_results = model_cv(model = KNeighborsClassifier(n_neighbors=i),\n",
    "                             X_train=X_train2_concat,\n",
    "                             y_train = y_train_concat,\n",
    "                             name = f'KNN_new_data-{i}',\n",
    "                             nfolds=10,\n",
    "                             model_results=model_results                        \n",
    "                            )\n",
    "    end=time.time()\n",
    "    print(f'Total TIme for KNN-{i}: {end-start}')"
   ]
  },
  {
   "cell_type": "code",
   "execution_count": 52,
   "metadata": {},
   "outputs": [
    {
     "name": "stdout",
     "output_type": "stream",
     "text": [
      "10 CV score: 0.94063 with std: 0.02158\n",
      "Total TIme: 9.25490665435791\n"
     ]
    }
   ],
   "source": [
    "from lightgbm import LGBMClassifier\n",
    "start= time.time()\n",
    "model_results = model_cv(model = LGBMClassifier(),\n",
    "                         X_train=X_train2_concat,\n",
    "                         y_train = y_train_concat,\n",
    "                         name = 'LGBM_new_data',\n",
    "                         nfolds=10,\n",
    "                         model_results=model_results                        \n",
    "                        )\n",
    "end=time.time()\n",
    "print(f'Total TIme: {end-start}')"
   ]
  },
  {
   "cell_type": "code",
   "execution_count": 53,
   "metadata": {},
   "outputs": [
    {
     "data": {
      "text/plain": [
       "Text(0, 0.5, 'Mean ROC Score (with error bar)')"
      ]
     },
     "execution_count": 53,
     "metadata": {},
     "output_type": "execute_result"
    },
    {
     "data": {
      "image/png": "[encoded data removed]",
      "text/plain": [
       "<Figure size 1080x504 with 1 Axes>"
      ]
     },
     "metadata": {
      "needs_background": "light"
     },
     "output_type": "display_data"
    }
   ],
   "source": [
    "plt.figure(figsize=(15,7))\n",
    "sns.barplot(data=model_results, x='model',y='cv_mean',yerr=list(model_results['cv_std']),color='orange',edgecolor='k',linewidth=2)\n",
    "plt.xticks(rotation=90)\n",
    "plt.title('Model ROC Score Results')\n",
    "plt.ylabel('Mean ROC Score (with error bar)')"
   ]
  },
  {
   "cell_type": "code",
   "execution_count": 54,
   "metadata": {},
   "outputs": [],
   "source": [
    "# Additional features have massive effect! This indicates initial data was not enough.\n",
    "# Tuned Logreg leads with 0.95! Regularisation results in increase of 0.03!!\n",
    "# Power of LGBM!!It reaches 0.94 without tuning.\n",
    "# Need to re-tune RFC.\n",
    "# SVC tuning indicates massive effect due to regularisation. Need to re-tune with multiple kernels and verify."
   ]
  },
  {
   "cell_type": "code",
   "execution_count": 55,
   "metadata": {},
   "outputs": [],
   "source": [
    "from IPython.display import display\n",
    "import lightgbm as lgb\n",
    "from sklearn.model_selection import StratifiedKFold\n",
    "def modelgbm(X_train, y_train, X_test, train_features, nfolds=5):\n",
    "    model = lgb.LGBMClassifier( objective='binary', n_jobs=-1, n_estimators=10000)\n",
    "    strkfold = StratifiedKFold(n_splits=nfolds,shuffle=True)\n",
    "    predictions = pd.DataFrame()\n",
    "    importances = np.zeros(len(train_features))\n",
    "    tr = np.array(X_train)\n",
    "    ts = np.array(X_test)\n",
    "    tgt = np.array(y_train).reshape((-1))\n",
    "    valid_scores=[]\n",
    "    \n",
    "    for i, (train_indices, tgt_indices) in enumerate(strkfold.split(tr,tgt)):\n",
    "        \n",
    "        fold_predictions = pd.DataFrame()\n",
    "        \n",
    "        X_tr = tr[train_indices]\n",
    "        X_tgt = tr[tgt_indices]\n",
    "        y_tr = tgt[train_indices]\n",
    "        y_tgt = tgt[tgt_indices]\n",
    "        \n",
    "        model.fit(X=X_tr, y=y_tr, early_stopping_rounds=100, eval_metric='auc', eval_set=[(X_tr,y_tr), (X_tgt,y_tgt)],\n",
    "                  eval_names=['train','valid'],\n",
    "                  verbose=200\n",
    "                 )\n",
    "        \n",
    "        valid_scores.append(model.best_score_['valid']['auc'])\n",
    "        fold_probabilities = model.predict_proba(X_test)\n",
    "        for j in range(2):\n",
    "            fold_predictions[j] = fold_probabilities[:,j]\n",
    "        fold_predictions['vid_id'] = X_test.index\n",
    "        fold_predictions['fold'] = i+1\n",
    "        predictions = predictions.append(fold_predictions)\n",
    "        importances = model.feature_importances_/nfolds\n",
    "        print(f'Fold {i+1}: Validation Score = {round(valid_scores[i],5)}, Estimators Trained = {model.best_iteration_}')\n",
    "    \n",
    "    feature_importances = pd.DataFrame({'feature':train_features, 'importance':importances})\n",
    "    #if return_preds:\n",
    "    #    predictions['Target'] = predictions[[0,1]].idxmax(axis=1)\n",
    "    #    predictions['Probability_Confidence'] = predictions[[0,1]].max(axis=1)\n",
    "    predictions['Target'] = predictions[[0,1]].idxmax(axis=1)\n",
    "    predictions['Probability_Confidence'] = predictions[[0,1]].max(axis=1)\n",
    "    predictions = predictions.groupby('vid_id',as_index=False).mean()\n",
    "    submission = predictions[['vid_id','Target']].copy()\n",
    "    submission.columns = ['vid_id','is_turkey']\n",
    "    \n",
    "    return valid_scores, predictions,submission"
   ]
  },
  {
   "cell_type": "code",
   "execution_count": 56,
   "metadata": {},
   "outputs": [
    {
     "name": "stdout",
     "output_type": "stream",
     "text": [
      "Training until validation scores don't improve for 100 rounds.\n",
      "Early stopping, best iteration is:\n",
      "[36]\ttrain's binary_logloss: 0.0464105\ttrain's auc: 1\tvalid's binary_logloss: 0.109838\tvalid's auc: 0.993696\n",
      "Fold 1: Validation Score = 0.9937, Estimators Trained = 36\n",
      "Training until validation scores don't improve for 100 rounds.\n",
      "Early stopping, best iteration is:\n",
      "[32]\ttrain's binary_logloss: 0.0552056\ttrain's auc: 1\tvalid's binary_logloss: 0.201634\tvalid's auc: 0.976118\n",
      "Fold 2: Validation Score = 0.97612, Estimators Trained = 32\n",
      "Training until validation scores don't improve for 100 rounds.\n",
      "Early stopping, best iteration is:\n",
      "[31]\ttrain's binary_logloss: 0.0628133\ttrain's auc: 1\tvalid's binary_logloss: 0.142817\tvalid's auc: 0.990447\n",
      "Fold 3: Validation Score = 0.99045, Estimators Trained = 31\n",
      "Training until validation scores don't improve for 100 rounds.\n",
      "Early stopping, best iteration is:\n",
      "[35]\ttrain's binary_logloss: 0.0449164\ttrain's auc: 1\tvalid's binary_logloss: 0.188904\tvalid's auc: 0.985743\n",
      "Fold 4: Validation Score = 0.98574, Estimators Trained = 35\n",
      "Training until validation scores don't improve for 100 rounds.\n",
      "Early stopping, best iteration is:\n",
      "[35]\ttrain's binary_logloss: 0.0455926\ttrain's auc: 1\tvalid's binary_logloss: 0.171742\tvalid's auc: 0.980466\n",
      "Fold 5: Validation Score = 0.98047, Estimators Trained = 35\n"
     ]
    }
   ],
   "source": [
    "valid_scores, predictions,submission=modelgbm(X_train=X_train2_concat, y_train = y_train_concat, X_test=X_test2_concat, train_features=X_train2_concat.columns)\n"
   ]
  },
  {
   "cell_type": "code",
   "execution_count": 57,
   "metadata": {},
   "outputs": [],
   "source": [
    "submission.to_csv('submission.csv', index=False)"
   ]
  }
 ],
 "metadata": {
  "kernelspec": {
   "display_name": "Python 3",
   "language": "python",
   "name": "python3"
  },
  "language_info": {
   "codemirror_mode": {
    "name": "ipython",
    "version": 3
   },
   "file_extension": ".py",
   "mimetype": "text/x-python",
   "name": "python",
   "nbconvert_exporter": "python",
   "pygments_lexer": "ipython3",
   "version": "3.6.6"
  }
 },
 "nbformat": 4,
 "nbformat_minor": 1
}
